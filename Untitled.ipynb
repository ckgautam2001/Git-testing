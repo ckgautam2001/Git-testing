{
 "cells": [
  {
   "cell_type": "code",
   "execution_count": null,
   "id": "19a17ff8",
   "metadata": {},
   "outputs": [
    {
     "name": "stdout",
     "output_type": "stream",
     "text": [
      "Press Enter to scan a QR code...\n"
     ]
    }
   ],
   "source": [
    "import os\n",
    "\n",
    "# Define the folder where QR codes are stored\n",
    "qr_code_folder = \"/Users/ckgautam/Desktop/Python/qr_codes\"\n",
    "\n",
    "# Create an empty set to store attended candidates\n",
    "attended_candidates = set()\n",
    "\n",
    "while True:\n",
    "    # Prompt the coordinator to scan a QR code\n",
    "    input(\"Press Enter to scan a QR code...\")\n",
    "    scanned_code = input(\"Enter the scanned QR code: \")\n",
    "\n",
    "    # Check if the scanned QR code corresponds to a registered candidate\n",
    "    if scanned_code.endswith(\".png\"):\n",
    "        candidate_id = os.path.splitext(scanned_code)[0]  # Remove the file extension\n",
    "        if candidate_id in os.listdir(qr_code_folder):\n",
    "            # Mark the candidate as attended\n",
    "            attended_candidates.add(candidate_id)\n",
    "            print(f\"{candidate_id} has been marked as attended.\")\n",
    "        else:\n",
    "            print(\"QR code not found or not registered.\")\n",
    "\n",
    "    # Optionally, you can end the script by entering a specific command or key.\n",
    "\n",
    "# At the end of the event or when you want to stop marking attendance, you can save the attendance records.\n",
    "with open(\"attendance.txt\", \"w\") as file:\n",
    "    file.write(\"\\n\".join(attended_candidates))\n"
   ]
  },
  {
   "cell_type": "code",
   "execution_count": null,
   "id": "432d9943",
   "metadata": {},
   "outputs": [],
   "source": []
  }
 ],
 "metadata": {
  "kernelspec": {
   "display_name": "Python 3 (ipykernel)",
   "language": "python",
   "name": "python3"
  },
  "language_info": {
   "codemirror_mode": {
    "name": "ipython",
    "version": 3
   },
   "file_extension": ".py",
   "mimetype": "text/x-python",
   "name": "python",
   "nbconvert_exporter": "python",
   "pygments_lexer": "ipython3",
   "version": "3.10.11"
  }
 },
 "nbformat": 4,
 "nbformat_minor": 5
}
