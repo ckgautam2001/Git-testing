{
 "cells": [
  {
   "cell_type": "code",
   "execution_count": 10,
   "id": "59f421ba",
   "metadata": {},
   "outputs": [
    {
     "name": "stdout",
     "output_type": "stream",
     "text": [
      "QR codes saved in qr_codes.zip\n"
     ]
    }
   ],
   "source": [
    "import qrcode\n",
    "from PIL import Image\n",
    "import pandas as pd\n",
    "import os\n",
    "import zipfile\n",
    "\n",
    "# Read candidate details from the CSV file\n",
    "df = pd.read_csv(\"/Users/ckgautam/Downloads/CODATHON.csv\")\n",
    "\n",
    "# Create a directory to store QR code images\n",
    "output_dir = \"qr_codes\"\n",
    "os.makedirs(output_dir, exist_ok=True)\n",
    "\n",
    "# Function to generate QR codes and save them in the directory\n",
    "def generate_qr_codes(CODATHON):\n",
    "    for index, candidate in CODATHON.iterrows():\n",
    "        qr = qrcode.QRCode(\n",
    "            version=1,\n",
    "            error_correction=qrcode.constants.ERROR_CORRECT_L,\n",
    "            box_size=10,\n",
    "            border=4,\n",
    "        )\n",
    "        # Create a formatted string with candidate details\n",
    "        candidate_info = f\"Name: {candidate['NAME']}\\nEmail: {candidate['EMAIL ID']}\\nMobile: {candidate['CONTACT NO.']}\\nCollege: {candidate['COLLEGE']}\\nEnrollment No: {candidate['ENROLMENT NO']}\\nCourse: {candidate['COURSE']}\\nStream: {candidate['STREAM']}\"\n",
    "        qr.add_data(candidate_info)\n",
    "        qr.make(fit=True)\n",
    "\n",
    "        # Save the QR code with a name based on candidate's name and enrolment number\n",
    "        qr_code_filename = f\"{candidate['NAME']}_{candidate['ENROLMENT NO']}.png\"\n",
    "        img = qr.make_image(fill_color=\"black\", back_color=\"white\")\n",
    "        img.save(os.path.join(output_dir, qr_code_filename))\n",
    "\n",
    "# Generate QR codes for the candidates\n",
    "generate_qr_codes(df)\n",
    "\n",
    "# Create a zip archive containing the QR code images\n",
    "with zipfile.ZipFile(\"qr_codes.zip\", \"w\") as zipf:\n",
    "    for root, _, files in os.walk(output_dir):\n",
    "        for file in files:\n",
    "            zipf.write(os.path.join(root, file), os.path.relpath(os.path.join(root, file), output_dir))\n",
    "\n",
    "print(\"QR codes saved in qr_codes.zip\")\n"
   ]
  },
  {
   "cell_type": "code",
   "execution_count": null,
   "id": "402168b0",
   "metadata": {},
   "outputs": [],
   "source": []
  }
 ],
 "metadata": {
  "kernelspec": {
   "display_name": "Python 3 (ipykernel)",
   "language": "python",
   "name": "python3"
  },
  "language_info": {
   "codemirror_mode": {
    "name": "ipython",
    "version": 3
   },
   "file_extension": ".py",
   "mimetype": "text/x-python",
   "name": "python",
   "nbconvert_exporter": "python",
   "pygments_lexer": "ipython3",
   "version": "3.10.11"
  }
 },
 "nbformat": 4,
 "nbformat_minor": 5
}
